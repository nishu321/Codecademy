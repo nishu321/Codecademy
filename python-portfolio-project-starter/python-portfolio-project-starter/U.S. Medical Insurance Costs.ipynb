{
 "cells": [
  {
   "cell_type": "markdown",
   "metadata": {},
   "source": [
    "# U.S. Medical Insurance Costs"
   ]
  },
  {
   "cell_type": "code",
   "execution_count": 1,
   "metadata": {},
   "outputs": [],
   "source": [
    "import csv"
   ]
  },
  {
   "cell_type": "code",
   "execution_count": 2,
   "metadata": {},
   "outputs": [],
   "source": [
    "#Create empty lists for variables \n",
    "age = []\n",
    "sex = []\n",
    "bmi = []\n",
    "num_of_childen = []\n",
    "smoker_status = []\n",
    "region = []\n",
    "charges = []"
   ]
  },
  {
   "cell_type": "code",
   "execution_count": 3,
   "metadata": {},
   "outputs": [
    {
     "name": "stdout",
     "output_type": "stream",
     "text": [
      "1338\n",
      "1338\n",
      "1338\n",
      "1338\n",
      "1338\n",
      "1338\n",
      "1338\n"
     ]
    }
   ],
   "source": [
    "#Read csv file and popluate lists\n",
    "with open('insurance.csv') as csv_file:\n",
    "    csv_dict = csv.DictReader(csv_file)\n",
    "    for row in csv_dict:\n",
    "        age.append(row['age'])\n",
    "        sex.append(row['sex'])\n",
    "        bmi.append(row['bmi'])\n",
    "        num_of_childen.append(row['children'])\n",
    "        smoker_status.append(row['smoker'])\n",
    "        region.append(row['region'])\n",
    "        charges.append(row['charges'])\n",
    "\n",
    "#check all records loaded\n",
    "print(len(age))\n",
    "print(len(sex))\n",
    "print(len(bmi))\n",
    "print(len(num_of_childen))\n",
    "print(len(smoker_status))\n",
    "print(len(region))\n",
    "print(len(charges))"
   ]
  },
  {
   "cell_type": "code",
   "execution_count": 4,
   "metadata": {},
   "outputs": [
    {
     "name": "stdout",
     "output_type": "stream",
     "text": [
      "The average age of the dataset is 39\n"
     ]
    }
   ],
   "source": [
    "#Find average age of dataset\n",
    "def avg_age(age):\n",
    "    total = 0\n",
    "    \n",
    "    for i in age:\n",
    "        total += int(i)\n",
    "\n",
    "    avg = total / len(age)\n",
    "    return avg\n",
    "\n",
    "print('The average age of the dataset is ' + str(int(avg_age(age))))"
   ]
  },
  {
   "cell_type": "code",
   "execution_count": 5,
   "metadata": {},
   "outputs": [
    {
     "name": "stdout",
     "output_type": "stream",
     "text": [
      "{'southwest': 325, 'southeast': 364, 'northwest': 325, 'northeast': 324}\n",
      "southeast is the most popluated region\n"
     ]
    }
   ],
   "source": [
    "#Find what region is most poplulated\n",
    "def region_counts(region):\n",
    "    region_dict = {}\n",
    "    \n",
    "    for i in region:\n",
    "        if i in region_dict.keys():\n",
    "            region_dict[i] += 1\n",
    "        else:\n",
    "            region_dict[i] = 1\n",
    "    \n",
    "    return region_dict\n",
    "\n",
    "def most_populated(region_dict):\n",
    "    region = ''\n",
    "    count = 0\n",
    "    \n",
    "    for k,v in region_dict.items():\n",
    "        if v > count:\n",
    "            region = k\n",
    "            count = v\n",
    "    \n",
    "    return region\n",
    "        \n",
    "print(region_counts(region))\n",
    "print(str(most_populated(region_counts(region))) + ' is the most popluated region')"
   ]
  },
  {
   "cell_type": "code",
   "execution_count": 6,
   "metadata": {},
   "outputs": [
    {
     "name": "stdout",
     "output_type": "stream",
     "text": [
      "The average age of patients with at least one children is 39\n"
     ]
    }
   ],
   "source": [
    "#Find average age for patient with at least one children\n",
    "def avg_age_with_children(age,num_of_childen):\n",
    "    zip_list = list(zip(age,num_of_childen))\n",
    "    \n",
    "    total = 0\n",
    "    num_of_records = 0\n",
    "\n",
    "    for record in zip_list:\n",
    "        record_age, record_num_of_childen = record\n",
    "        \n",
    "        if int(record_num_of_childen) >= 1:\n",
    "            total += int(record_age)\n",
    "            num_of_records += 1\n",
    "    \n",
    "    avg = total / num_of_records\n",
    "    \n",
    "    return avg\n",
    "        \n",
    "print('The average age of patients with at least one children is ' + str(int(avg_age_with_children(age,num_of_childen))))"
   ]
  },
  {
   "cell_type": "code",
   "execution_count": 21,
   "metadata": {},
   "outputs": [
    {
     "name": "stdout",
     "output_type": "stream",
     "text": [
      "On average patients who smoke have to pay $32049 where as non smoking patients have to pay $8433\n"
     ]
    }
   ],
   "source": [
    "#Average cost difference for smoker and non-smoker\n",
    "def avg_smoker_cost(smoker_status,charges):\n",
    "    zip_list = list(zip(smoker_status,charges))\n",
    "    \n",
    "    total = 0\n",
    "    num_of_records = 0\n",
    "    \n",
    "    for record in zip_list:\n",
    "        record_smoker_status,record_charges = record\n",
    "        \n",
    "        if record_smoker_status == 'yes':\n",
    "            total += int(float(record_charges))\n",
    "            num_of_records += 1\n",
    "    \n",
    "    avg = total / num_of_records\n",
    "    \n",
    "    return avg\n",
    "\n",
    "def avg_non_smoker_cost(smoker_status,charges):\n",
    "    zip_list = list(zip(smoker_status,charges))\n",
    "    \n",
    "    total = 0\n",
    "    num_of_records = 0\n",
    "    \n",
    "    for record in zip_list:\n",
    "        record_smoker_status,record_charges = record\n",
    "        \n",
    "        if record_smoker_status == 'no':\n",
    "            total += int(float(record_charges))\n",
    "            num_of_records += 1\n",
    "    \n",
    "    avg = total / num_of_records\n",
    "    \n",
    "    return avg\n",
    "\n",
    "print('On average patients who smoke have to pay $' + str(int(avg_smoker_cost(smoker_status,charges))) + ' where as non smoking patients have to pay $' + str(int(avg_non_smoker_cost(smoker_status,charges))))"
   ]
  },
  {
   "cell_type": "code",
   "execution_count": null,
   "metadata": {},
   "outputs": [],
   "source": []
  }
 ],
 "metadata": {
  "kernelspec": {
   "display_name": "Python 3",
   "language": "python",
   "name": "python3"
  },
  "language_info": {
   "codemirror_mode": {
    "name": "ipython",
    "version": 3
   },
   "file_extension": ".py",
   "mimetype": "text/x-python",
   "name": "python",
   "nbconvert_exporter": "python",
   "pygments_lexer": "ipython3",
   "version": "3.7.6"
  }
 },
 "nbformat": 4,
 "nbformat_minor": 4
}
